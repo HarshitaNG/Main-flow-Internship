{
  "nbformat": 4,
  "nbformat_minor": 0,
  "metadata": {
    "colab": {
      "provenance": []
    },
    "kernelspec": {
      "name": "python3",
      "display_name": "Python 3"
    },
    "language_info": {
      "name": "python"
    }
  },
  "cells": [
    {
      "cell_type": "markdown",
      "source": [
        "This task involves understanding the basic data\n",
        "types in Python such as lists, dictionaries, and\n",
        "sets ."
      ],
      "metadata": {
        "id": "mEdo9BD60neu"
      }
    },
    {
      "cell_type": "markdown",
      "source": [
        " Write a Python program to create a list, a\n",
        "dictionary, and a set. Perform basic operations\n",
        "like adding, removing, and modifying\n",
        "elements."
      ],
      "metadata": {
        "id": "-u0HdnnEzzC1"
      }
    },
    {
      "cell_type": "code",
      "source": [
        "my_list = [1, 2, 3, 4]\n",
        "my_dict = {'a': 1, 'b': 2, 'c': 3}\n",
        "my_set = {1, 2, 3, 4}\n"
      ],
      "metadata": {
        "id": "mAgaMkW70AX8"
      },
      "execution_count": 1,
      "outputs": []
    },
    {
      "cell_type": "code",
      "source": [
        "print(\"Original List:\", my_list)"
      ],
      "metadata": {
        "colab": {
          "base_uri": "https://localhost:8080/"
        },
        "id": "kS8jkLsB09m9",
        "outputId": "97e97218-1ac3-426c-dd61-b875b1a8b91b"
      },
      "execution_count": 2,
      "outputs": [
        {
          "output_type": "stream",
          "name": "stdout",
          "text": [
            "Original List: [1, 2, 3, 4]\n"
          ]
        }
      ]
    },
    {
      "cell_type": "code",
      "source": [
        "my_list.append(5)\n",
        "print(\"After Adding 5:\", my_list)"
      ],
      "metadata": {
        "colab": {
          "base_uri": "https://localhost:8080/"
        },
        "id": "hdSnTOsZ1KDc",
        "outputId": "8bf47f2f-8553-4542-d180-81d5235d5881"
      },
      "execution_count": 3,
      "outputs": [
        {
          "output_type": "stream",
          "name": "stdout",
          "text": [
            "After Adding 5: [1, 2, 3, 4, 5]\n"
          ]
        }
      ]
    },
    {
      "cell_type": "code",
      "source": [
        "my_list.remove(2)\n",
        "print(\"After Removing 2:\", my_list)"
      ],
      "metadata": {
        "colab": {
          "base_uri": "https://localhost:8080/"
        },
        "id": "4gf7JnUc1UE9",
        "outputId": "f5f476fa-28ba-4654-c17a-b4f2b30a6a0b"
      },
      "execution_count": 4,
      "outputs": [
        {
          "output_type": "stream",
          "name": "stdout",
          "text": [
            "After Removing 2: [1, 3, 4, 5]\n"
          ]
        }
      ]
    },
    {
      "cell_type": "code",
      "source": [
        "my_list[1] = 10\n",
        "print(\"After Modifying the second element:\", my_list)"
      ],
      "metadata": {
        "colab": {
          "base_uri": "https://localhost:8080/"
        },
        "id": "clrQg55Q1bMq",
        "outputId": "12b74067-1177-4eb0-e6fa-771b814dadfb"
      },
      "execution_count": 5,
      "outputs": [
        {
          "output_type": "stream",
          "name": "stdout",
          "text": [
            "After Modifying the second element: [1, 10, 4, 5]\n"
          ]
        }
      ]
    },
    {
      "cell_type": "code",
      "source": [
        "print(\"\\nOriginal Dictionary:\", my_dict)"
      ],
      "metadata": {
        "colab": {
          "base_uri": "https://localhost:8080/"
        },
        "id": "j0yeN3Mo1hrN",
        "outputId": "224c50a3-4da5-41cb-b3e5-7d1c850c6285"
      },
      "execution_count": 6,
      "outputs": [
        {
          "output_type": "stream",
          "name": "stdout",
          "text": [
            "\n",
            "Original Dictionary: {'a': 1, 'b': 2, 'c': 3}\n"
          ]
        }
      ]
    },
    {
      "cell_type": "code",
      "source": [
        "my_dict['d'] = 4\n",
        "print(\"After Adding {'d': 4}:\", my_dict)"
      ],
      "metadata": {
        "colab": {
          "base_uri": "https://localhost:8080/"
        },
        "id": "yPlqSJkF1sQh",
        "outputId": "053458b8-b395-491c-bc2b-6c68034bc525"
      },
      "execution_count": 7,
      "outputs": [
        {
          "output_type": "stream",
          "name": "stdout",
          "text": [
            "After Adding {'d': 4}: {'a': 1, 'b': 2, 'c': 3, 'd': 4}\n"
          ]
        }
      ]
    },
    {
      "cell_type": "code",
      "source": [
        "del my_dict['b']\n",
        "print(\"After Removing key 'b':\", my_dict)"
      ],
      "metadata": {
        "colab": {
          "base_uri": "https://localhost:8080/"
        },
        "id": "CFaTMvvO1uz2",
        "outputId": "4a9e5501-74a6-4ac2-9ac4-2e233340109a"
      },
      "execution_count": 8,
      "outputs": [
        {
          "output_type": "stream",
          "name": "stdout",
          "text": [
            "After Removing key 'b': {'a': 1, 'c': 3, 'd': 4}\n"
          ]
        }
      ]
    },
    {
      "cell_type": "code",
      "source": [
        "my_dict['a'] = 10\n",
        "print(\"After Modifying 'a' to 10:\", my_dict)\n"
      ],
      "metadata": {
        "colab": {
          "base_uri": "https://localhost:8080/"
        },
        "id": "q9nAKOlU10z5",
        "outputId": "826a3f59-bc01-47b3-ec02-ceae81006643"
      },
      "execution_count": 9,
      "outputs": [
        {
          "output_type": "stream",
          "name": "stdout",
          "text": [
            "After Modifying 'a' to 10: {'a': 10, 'c': 3, 'd': 4}\n"
          ]
        }
      ]
    },
    {
      "cell_type": "code",
      "source": [
        "print(\"\\nOriginal Set:\", my_set)"
      ],
      "metadata": {
        "colab": {
          "base_uri": "https://localhost:8080/"
        },
        "id": "xblYZ6i915_P",
        "outputId": "2e3599c4-edf3-45a8-8ccc-47923b0309f2"
      },
      "execution_count": 10,
      "outputs": [
        {
          "output_type": "stream",
          "name": "stdout",
          "text": [
            "\n",
            "Original Set: {1, 2, 3, 4}\n"
          ]
        }
      ]
    },
    {
      "cell_type": "code",
      "source": [
        "my_set.add(5)\n",
        "print(\"After Adding 5:\", my_set)"
      ],
      "metadata": {
        "colab": {
          "base_uri": "https://localhost:8080/"
        },
        "id": "O8tVGgO42BNC",
        "outputId": "58017c5b-b26d-424e-91b9-3300eadddc89"
      },
      "execution_count": 11,
      "outputs": [
        {
          "output_type": "stream",
          "name": "stdout",
          "text": [
            "After Adding 5: {1, 2, 3, 4, 5}\n"
          ]
        }
      ]
    },
    {
      "cell_type": "code",
      "source": [
        "my_set.discard(2)\n",
        "print(\"After Removing 2:\", my_set)"
      ],
      "metadata": {
        "colab": {
          "base_uri": "https://localhost:8080/"
        },
        "id": "5vANheTm2GDL",
        "outputId": "0fc91efc-2033-4511-eb11-17d35760a15e"
      },
      "execution_count": 12,
      "outputs": [
        {
          "output_type": "stream",
          "name": "stdout",
          "text": [
            "After Removing 2: {1, 3, 4, 5}\n"
          ]
        }
      ]
    },
    {
      "cell_type": "code",
      "source": [
        "my_set.add(3)\n",
        "print(\"After Adding duplicate 3:\", my_set)"
      ],
      "metadata": {
        "colab": {
          "base_uri": "https://localhost:8080/"
        },
        "id": "fsRrXOzY2Lop",
        "outputId": "a80e3d53-27ea-4b69-ae48-24635047eb99"
      },
      "execution_count": 13,
      "outputs": [
        {
          "output_type": "stream",
          "name": "stdout",
          "text": [
            "After Adding duplicate 3: {1, 3, 4, 5}\n"
          ]
        }
      ]
    }
  ]
}